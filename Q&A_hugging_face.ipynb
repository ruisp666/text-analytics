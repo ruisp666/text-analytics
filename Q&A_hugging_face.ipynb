{
 "cells": [
  {
   "cell_type": "markdown",
   "id": "659e5260-e1f6-462a-86c0-4267cef8f9ea",
   "metadata": {},
   "source": [
    "# Comparing transcripts across a single company\n",
    "Using Spacy and a regex for numerics"
   ]
  },
  {
   "cell_type": "code",
   "execution_count": 1,
   "id": "74931dbd-6a59-4e51-a082-e03ff503920e",
   "metadata": {},
   "outputs": [],
   "source": [
    "import spacy\n",
    "import os\n",
    "os.environ['KMP_DUPLICATE_LIB_OK']='True'\n",
    "from aux import extract_call_transcript\n",
    "\n",
    "# Load core Roberta \n",
    "model = spacy.load(\"en_core_web_trf\")\n",
    "quarter_1 = extract_call_transcript('NVDA', 1, 2021)\n",
    "quarter_2 = extract_call_transcript('NVDA', 2, 2021)"
   ]
  },
  {
   "cell_type": "code",
   "execution_count": 2,
   "id": "39d0f879-7726-4a18-82b3-a3d7fa7f1048",
   "metadata": {},
   "outputs": [],
   "source": [
    "from aux import nlp_tag_sentences_by_characters\n",
    "doc_quarter_1, quarter_1_matches = nlp_tag_sentences_by_characters(quarter_1, model)\n",
    "doc_quarter_2, quarter_2_matches = nlp_tag_sentences_by_characters(quarter_2, model)"
   ]
  },
  {
   "cell_type": "code",
   "execution_count": 18,
   "id": "821ee3e5-1a74-4391-aae4-72b6736a1423",
   "metadata": {},
   "outputs": [
    {
     "name": "stdout",
     "output_type": "stream",
     "text": [
      "1/2\n",
      "165\n",
      "165\n",
      "75\n",
      "142\n",
      "239\n",
      "71\n",
      "83\n",
      "35\n",
      "139\n",
      "138\n",
      "163\n",
      "139\n",
      "104\n",
      "46\n",
      "175\n",
      "113\n",
      "80\n",
      "110\n",
      "117\n",
      "132\n",
      "118\n",
      "99\n",
      "83\n",
      "55\n",
      "48\n",
      "73\n",
      "116\n",
      "214\n",
      "160\n",
      "169\n",
      "129\n",
      "84\n",
      "73\n",
      "71\n",
      "52\n",
      "54\n",
      "69\n",
      "55\n",
      "2/2\n",
      "98\n",
      "137\n",
      "247\n",
      "122\n",
      "92\n",
      "157\n",
      "74\n",
      "109\n",
      "209\n",
      "84\n",
      "99\n",
      "65\n",
      "143\n",
      "50\n",
      "49\n",
      "47\n",
      "55\n",
      "136\n",
      "110\n",
      "115\n",
      "116\n",
      "84\n",
      "99\n",
      "83\n",
      "84\n",
      "84\n"
     ]
    }
   ],
   "source": [
    "text_q = \"\"\n",
    "for i, quarter in enumerate([quarter_1_matches, quarter_2_matches]):\n",
    "    print(f'{i+1}/{2}')\n",
    "    for sent in quarter:\n",
    "        #print(sent[1])\n",
    "        print(len(sent[1]))\n",
    "        text_q +=sent[1]"
   ]
  },
  {
   "cell_type": "code",
   "execution_count": 19,
   "id": "350c3187-cf44-48ec-a5c6-c65ba5736ef5",
   "metadata": {},
   "outputs": [],
   "source": [
    "text_q_1 = ' '.join(sent[1] for sent in quarter_1_matches)\n",
    "text_q_2 = ' '.join(sent[1] for sent in quarter_2_matches)"
   ]
  },
  {
   "cell_type": "code",
   "execution_count": 23,
   "id": "2f38c46e-0315-493c-9ae4-6f9068621995",
   "metadata": {},
   "outputs": [],
   "source": [
    "text_q = text_q_1 + \" \" + text_q_2\n"
   ]
  },
  {
   "cell_type": "code",
   "execution_count": 7,
   "id": "af41765b-b3ef-4a74-81e2-908d40198641",
   "metadata": {},
   "outputs": [],
   "source": [
    "\n"
   ]
  },
  {
   "cell_type": "code",
   "execution_count": 28,
   "id": "7b77cf7a-a68f-46ab-90a1-d88684c04fdf",
   "metadata": {},
   "outputs": [
    {
     "name": "stdout",
     "output_type": "stream",
     "text": [
      "Question: How does GAAP margin compares between quarter 1 and quarter 2 for NVIDIA?\n",
      "Answer: mid - to high 60 % range\n",
      "Question: Did the company beat revenue expectations?\n",
      "Answer: slightly ahead of our outlook\n",
      "Question: How were the gross margins for each of the quarters?\n",
      "Answer: 65. 1 % and non - gaap was 65. 8 %\n"
     ]
    }
   ],
   "source": [
    "from transformers import AutoTokenizer, AutoModelForQuestionAnswering\n",
    "import torch\n",
    "\n",
    "#tokenizer = AutoTokenizer.from_pretrained(\"bert-large-uncased-whole-word-masking-finetuned-squad\")\n",
    "#model = AutoModelForQuestionAnswering.from_pretrained(\"bert-large-uncased-whole-word-masking-finetuned-squad\")\n",
    "\n",
    "\n",
    "\n",
    "questions = [\n",
    "    \"How does GAAP margin compares between quarter 1 and quarter 2 for NVIDIA?\",\n",
    "    \"Did the company beat revenue expectations?\",\n",
    "    \"How were the gross margins for each of the quarters?\",\n",
    "]\n",
    "\n",
    "for question in questions:\n",
    "    inputs = tokenizer(question, text_q, add_special_tokens=True, return_tensors=\"pt\", truncation=True)\n",
    "    input_ids = inputs[\"input_ids\"].tolist()[0]\n",
    "    outputs = model(**inputs)\n",
    "    answer_start_scores = outputs.start_logits\n",
    "    answer_end_scores = outputs.end_logits\n",
    "    # Get the most likely beginning of answer with the argmax of the score\n",
    "    answer_start = torch.argmax(answer_start_scores)\n",
    "    # Get the most likely end of answer with the argmax of the score\n",
    "    answer_end = torch.argmax(answer_end_scores) + 1\n",
    "    answer = tokenizer.convert_tokens_to_string(tokenizer.convert_ids_to_tokens(input_ids[answer_start:answer_end]))\n",
    "    print(f\"Question: {question}\")\n",
    "    print(f\"Answer: {answer}\")"
   ]
  },
  {
   "cell_type": "code",
   "execution_count": null,
   "id": "56efe4d9-200b-4b9d-afde-6d7a63741f40",
   "metadata": {},
   "outputs": [],
   "source": []
  }
 ],
 "metadata": {
  "kernelspec": {
   "display_name": "Python 3",
   "language": "python",
   "name": "python3"
  },
  "language_info": {
   "codemirror_mode": {
    "name": "ipython",
    "version": 3
   },
   "file_extension": ".py",
   "mimetype": "text/x-python",
   "name": "python",
   "nbconvert_exporter": "python",
   "pygments_lexer": "ipython3",
   "version": "3.9.5"
  }
 },
 "nbformat": 4,
 "nbformat_minor": 5
}